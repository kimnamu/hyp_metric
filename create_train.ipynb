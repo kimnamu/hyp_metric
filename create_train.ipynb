{
 "cells": [
  {
   "cell_type": "code",
   "execution_count": 16,
   "id": "assumed-burner",
   "metadata": {},
   "outputs": [
    {
     "name": "stderr",
     "output_type": "stream",
     "text": [
      "100%|█████████████████████████████████████████████████████████████████████████████████████████| 59552/59552 [00:00<00:00, 861331.32it/s]\n"
     ]
    }
   ],
   "source": [
    "from tqdm import tqdm\n",
    "from shutil import copyfile\n",
    "import os\n",
    "\n",
    "new_file = \"Ebay_train.txt\"\n",
    "if not os.path.exists(backup_file):\n",
    "    backup_file = \"Ebay_train_backup.txt\"\n",
    "    copyfile(new_file, backup_file)\n",
    "\n",
    "with open(\"./Ebay_train_backup.txt\") as f:\n",
    "    lines = f.readlines()\n",
    "\n",
    "img_id = 59551\n",
    "class_id = 11318\n",
    "super_class_id = 13\n",
    "\n",
    "f = open(new_file, 'w')\n",
    "for l in tqdm(lines):\n",
    "    f.write(l)"
   ]
  },
  {
   "cell_type": "code",
   "execution_count": 17,
   "id": "conditional-departure",
   "metadata": {},
   "outputs": [
    {
     "name": "stderr",
     "output_type": "stream",
     "text": [
      "100%|█████████████████████████████████████████████████████████████████████████████████████████| 46152/46152 [00:00<00:00, 490480.58it/s]\n"
     ]
    }
   ],
   "source": [
    "from glob import glob\n",
    "filenames = glob(\"productions_low_ctr_filtered/*/*.jpg\")\n",
    "filenames.sort()\n",
    "prev_cluster = filenames[0].split(\"/\")[1]\n",
    "for filename in tqdm(filenames):\n",
    "    img_id += 1\n",
    "    curr_cluster = filename.split(\"/\")[1]\n",
    "    if prev_cluster != curr_cluster:\n",
    "        prev_cluster = curr_cluster\n",
    "        class_id += 1\n",
    "    f.write(f\"{img_id} {class_id} {super_class_id} {filename}\\n\")\n",
    "f.close()"
   ]
  },
  {
   "cell_type": "code",
   "execution_count": 18,
   "id": "republican-channels",
   "metadata": {},
   "outputs": [
    {
     "name": "stdout",
     "output_type": "stream",
     "text": [
      "\n",
      "img_id = 105703\n",
      "class_id = 19033\n",
      "super_class_id = 13\n",
      "\n"
     ]
    }
   ],
   "source": [
    "print(f'''\n",
    "img_id = {img_id}\n",
    "class_id = {class_id}\n",
    "super_class_id = {super_class_id}\n",
    "''')"
   ]
  },
  {
   "cell_type": "code",
   "execution_count": null,
   "id": "representative-transfer",
   "metadata": {},
   "outputs": [],
   "source": []
  }
 ],
 "metadata": {
  "kernelspec": {
   "display_name": "pyspark_lucas",
   "language": "python",
   "name": "pyspark_lucas"
  },
  "language_info": {
   "codemirror_mode": {
    "name": "ipython",
    "version": 3
   },
   "file_extension": ".py",
   "mimetype": "text/x-python",
   "name": "python",
   "nbconvert_exporter": "python",
   "pygments_lexer": "ipython3",
   "version": "3.7.13"
  }
 },
 "nbformat": 4,
 "nbformat_minor": 5
}
